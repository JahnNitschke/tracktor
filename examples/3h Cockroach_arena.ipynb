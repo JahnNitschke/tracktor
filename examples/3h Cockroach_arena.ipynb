{
 "cells": [
  {
   "cell_type": "code",
   "execution_count": 1,
   "metadata": {},
   "outputs": [],
   "source": [
    "import numpy as np\n",
    "import pandas as pd\n",
    "import tracktor as tr\n",
    "import tracktor_extension as trx\n",
    "import cv2\n",
    "import sys\n",
    "from scipy.optimize import linear_sum_assignment\n",
    "from scipy.spatial.distance import cdist"
   ]
  },
  {
   "cell_type": "markdown",
   "metadata": {},
   "source": [
    "## Global parameters\n",
    "This cell (below) enlists user-defined parameters"
   ]
  },
  {
   "cell_type": "code",
   "execution_count": 2,
   "metadata": {},
   "outputs": [],
   "source": [
    "# colours is a vector of BGR values which are used to identify individuals in the video\n",
    "# t_id is termite id and is also used for individual identification\n",
    "# number of elements in colours should be greater than n_inds (THIS IS NECESSARY FOR VISUALISATION ONLY)\n",
    "# number of elements in t_id should be greater than n_inds (THIS IS NECESSARY TO GET INDIVIDUAL-SPECIFIC DATA)\n",
    "n_inds = 20\n",
    "t_id = ['A', 'B', 'C', 'D', 'E', 'F', 'G', 'H', 'I', 'J', 'K', 'L', 'M', 'N', 'O', 'P', 'Q', 'R', 'S', 'T', 'U', 'V', 'Z']\n",
    "\n",
    "colours = trx.get_spaced_colors(n_inds)\n",
    "\n",
    "# the scaling parameter can be used to speed up tracking if video resolution is too high (use value 0-1)\n",
    "scaling = 0.2\n",
    "\n",
    "# this is the block_size and offset used for adaptive thresholding (block_size should always be odd)\n",
    "# these values are critical for tracking performance\n",
    "block_size = trx.round_up_to_odd(61*scaling)\n",
    "offset = 60\n",
    "\n",
    "# minimum area and maximum area occupied by the animal in number of pixels\n",
    "# this parameter is used to get rid of other objects in view that might be hard to threshold out but are differently sized\n",
    "min_area = int(5*scaling)\n",
    "max_area = int(500*scaling)\n",
    "\n",
    "# in this example, we use a circular mask to ignore area outside the petri-dish\n",
    "# mask_offset represents offset of circle from centre of the frame\n",
    "#circle_radius sets radius, colour_ignored_area sets area outside of roi to black (0) or white (255)\n",
    "mask_offset_x = 2\n",
    "mask_offset_y = -15\n",
    "circle_radius = int(697*scaling)\n",
    "colour_ignored_area = 255\n",
    "\n",
    "#do you want to click on the initial positions in the first frame?\n",
    "mouse_input = False\n",
    "\n",
    "# limits how often the algorithm iteratively erodes/dilates the thresholded image, slows down algorithm.\n",
    "# Can be useful to separate merged contours or merge separated fragments of the same contour\n",
    "ero_dil_limit = 5\n",
    "\n",
    "# If more than one object is tracked, different strategies are available to try keeping identities. \n",
    "# Algorithms in methods1 trie to identify the object in the last frame (or the kalman estimate of the current frame),\n",
    "# which was lost in the current frame. Set methods1 to 'distance', which will consider objects as lost,\n",
    "# if they are far away from objects in the current frame. This is fast but is prone to detecting\n",
    "# fast objects as lost. Set methods1 to 'hungarian', which will consider objects lost, \n",
    "# by iteratively applying the hungarian algorithm and finding the objects which fit worst to objects \n",
    "# in the current frame. Slower than 'distance'.\n",
    "# Based on the objects identified as lost, methods2 will try to make statements about their current position. \n",
    "# Setting to 'keep' will carry over the positions of the lost points to the current frame. \n",
    "# 'next contour' will find the closest contour to the lost objects and keeps a copy of them in the current frame. \n",
    "# The default 'kmeans' will enable k-means clustering to force n_inds number of animals. \n",
    "# Slower than 'keep' or 'next_contour' down algorithm.\n",
    "# Setting either to '' will omit this step.\n",
    "methods1 = 'distance'\n",
    "methods2 = 'next_contour'\n",
    "\n",
    "#If kalman is set to True, the algorithm tries to infer the positions of the current frame by using a simple kalman\n",
    "# estimate on the positions of the last frame and subsequently uses the estimates instead of the positions in the\n",
    "# last frame\n",
    "kalman = True\n",
    "\n",
    "# name of source video and paths\n",
    "video = 'test'\n",
    "input_vidpath = 'C:/Users/jahn_/Documents/Python Scripts/tracktor-master/videos/' + video + '.mp4'\n",
    "output_vidpath = 'C:/Users/jahn_/Documents/Python Scripts/tracktor-master/output/' + video + '_tracked1.mp4'\n",
    "output_filepath = 'C:/Users/jahn_/Documents/Python Scripts/tracktor-master/output/' + video + '_tracked1.csv'\n",
    "codec = 'DIVX' # try other codecs if the default doesn't work ('DIVX', 'avc1', 'XVID') note: this list is non-exhaustive"
   ]
  },
  {
   "cell_type": "code",
   "execution_count": 4,
   "metadata": {},
   "outputs": [
    {
     "data": {
      "text/plain": [
       "-1"
      ]
     },
     "execution_count": 4,
     "metadata": {},
     "output_type": "execute_result"
    }
   ],
   "source": [
    "## Open video\n",
    "cap = cv2.VideoCapture(str(input_vidpath))\n",
    "if cap.isOpened() == False:\n",
    "    sys.exit('Video file cannot be read! Please check input_vidpath to ensure it is correctly pointing to the video file')\n",
    "\n",
    "## Video writer class to output video with contour and centroid of tracked object(s)\n",
    "# make sure the frame size matches size of array 'final'\n",
    "fourcc = cv2.VideoWriter_fourcc(*codec)\n",
    "output_framesize = (int(np.ceil(cap.read()[1].shape[1]*scaling)),int(np.ceil(cap.read()[1].shape[0]*scaling)))\n",
    "out = cv2.VideoWriter(filename = output_vidpath, fourcc = fourcc, fps = 60.0, frameSize = output_framesize, isColor = True)\n",
    "\n",
    "## Individual location(s) measured in the last and current step\n",
    "meas_last = list(np.zeros((n_inds,2)))\n",
    "meas_now = list(np.zeros((n_inds,2)))\n",
    "\n",
    "df = []\n",
    "last = 0\n",
    "lost_count = 0\n",
    "frame_count = 0\n",
    "\n",
    "#initial variables for the simple kalman estimate\n",
    "R = 0.01**2\n",
    "kl_Ps = np.zeros([n_inds, 4,4])\n",
    "for i in np.arange(0,n_inds,1):\n",
    "    kl_Ps[i] = np.matrix(np.eye(4))*1000 # initial uncertainty\n",
    "kl_estimate = np.zeros([n_inds, 2])\n",
    "kl_velocities = np.zeros([n_inds, 2])\n",
    "\n",
    "\n",
    "while(True):\n",
    "    # Capture frame-by-frame\n",
    "    ret, frame = cap.read()\n",
    "    ero_dil_count = 0\n",
    "    \n",
    "    this = cap.get(1)\n",
    "    if ret == True:\n",
    "        # Preprocess the image for background subtraction\n",
    "        frame = cv2.resize(frame, None, fx = scaling, fy = scaling, interpolation = cv2.INTER_LINEAR)\n",
    "        \n",
    "        # Apply mask to ignore area outside circle\n",
    "        mask = np.zeros((frame.shape[0], frame.shape[1]))\n",
    "        cv2.circle(mask, (mask.shape[1]//2 + mask_offset_x, mask.shape[0]//2 + mask_offset_y), circle_radius, 255, -1)\n",
    "        frame[mask == 0] = colour_ignored_area\n",
    "        \n",
    "        thresh = tr.colour_to_thresh(frame, block_size, offset)\n",
    "        # Custom background subtraction\n",
    "        bg = thresh.copy()\n",
    "        cv2.circle(bg, (bg.shape[1]//2 + mask_offset_x, bg.shape[0]//2 + mask_offset_y), 780, 0, -1)\n",
    "        bgsub = thresh - bg\n",
    "        \n",
    "        #take user input for initial object positions\n",
    "        if frame_count == 0 and mouse_input == True:\n",
    "            meas_last, kl_estimate = trx.mouse_input(frame, n_inds, meas_last)\n",
    "        else:\n",
    "            final, contours, meas_last, meas_now = trx.detect_and_draw_contours(frame, thresh, meas_last, meas_now, ero_dil_count, min_area, max_area)\n",
    "        \n",
    "            \n",
    "        #simple kalman estimate\n",
    "        if kalman == True:\n",
    "            kl_estimate, kl_velocities, kl_Ps = trx.apply_simple_kalman(R, n_inds, kl_velocities, kl_Ps, kl_estimate, meas_last)\n",
    "            meas_last = kl_estimate\n",
    "            \n",
    "        #use dilation and erosion until limit is exceeded or enough contours are found\n",
    "        final, contours, meas_now = trx.apply_dilation_and_erosion(mask, final, contours, frame, thresh, meas_now, meas_last, n_inds, ero_dil_limit, ero_dil_count, min_area, max_area)\n",
    "            \n",
    "        if len(meas_now) != n_inds: #if detected contours still dont match try to assign positions in current frame with different strategies\n",
    "            lost_count += 1\n",
    "            #get putative_lost_points\n",
    "            if methods1 == 'distance':\n",
    "                lost_points = trx.find_lost_points1(meas_last, meas_now, n_inds)\n",
    "            elif methods1 == 'hungarian':\n",
    "                lost_points = trx.find_lost_points2(meas_last, meas_now, n_inds)\n",
    "            elif methods1 == '':\n",
    "                pass\n",
    "            \n",
    "            #use putative_lost_points to fill in values in meas_now up to n_inds\n",
    "            if methods2 == 'keep':\n",
    "                meas_now = trx.assign_lost_points1(meas_now, lost_points)\n",
    "            elif methods2 == 'next_contour':\n",
    "                meas_now = trx.assign_lost_points1(meas_now, lost_points)\n",
    "            elif methods2 == 'kmeans':\n",
    "                contours, meas_now = trx.apply_k_means(contours, n_inds, meas_now)\n",
    "            elif methods2 == '':\n",
    "                pass\n",
    "\n",
    "        #apply hungarian algorithm to assign positions from current frame to last frame positions and their respective identities\n",
    "        row_ind, col_ind = tr.hungarian_algorithm(meas_last, meas_now)\n",
    "        final, meas_now, df = trx.reorder_and_draw(final, colours, n_inds, col_ind, meas_now, df, this, colour_ignored_area)\n",
    "        \n",
    "        # Create output dataframe\n",
    "        for i in range(n_inds):\n",
    "            df.append([this, meas_now[i][0], meas_now[i][1], t_id[i]])\n",
    "        \n",
    "        # Display the resulting frame\n",
    "        out.write(final)\n",
    "        cv2.imshow('frame', final)\n",
    "        if cv2.waitKey(1) == 27:\n",
    "            break\n",
    "            \n",
    "        # update internal frame counter\n",
    "        frame_count += 1\n",
    "    \n",
    "    if last >= this:\n",
    "        break\n",
    "    \n",
    "    last = this\n",
    "\n",
    "## Write positions to file\n",
    "df = pd.DataFrame(np.matrix(df), columns = ['frame','pos_x','pos_y', 'id'])\n",
    "df.to_csv(output_filepath, sep=',')\n",
    "\n",
    "## When everything done, release the capture\n",
    "cap.release()\n",
    "out.release()\n",
    "cv2.destroyAllWindows()\n",
    "cv2.waitKey(1)"
   ]
  },
  {
   "cell_type": "code",
   "execution_count": 4,
   "metadata": {},
   "outputs": [
    {
     "data": {
      "text/plain": [
       "[(0, 0, 0),\n",
       " (12, 166, 140),\n",
       " (25, 77, 24),\n",
       " (37, 243, 164),\n",
       " (50, 154, 48),\n",
       " (63, 64, 188),\n",
       " (75, 231, 72),\n",
       " (88, 141, 212),\n",
       " (101, 52, 96),\n",
       " (113, 218, 236),\n",
       " (126, 129, 120),\n",
       " (139, 40, 4),\n",
       " (151, 206, 144),\n",
       " (164, 117, 28),\n",
       " (177, 27, 168),\n",
       " (189, 194, 52),\n",
       " (202, 104, 192),\n",
       " (215, 15, 76),\n",
       " (227, 181, 216),\n",
       " (240, 92, 100)]"
      ]
     },
     "execution_count": 4,
     "metadata": {},
     "output_type": "execute_result"
    }
   ],
   "source": [
    "colours"
   ]
  },
  {
   "cell_type": "markdown",
   "metadata": {
    "collapsed": true
   },
   "source": [
    "## Summary statistics\n",
    "The cells below provide functions to perform basic summary statistics - in this case, group polarisation and rotation around group centroid and rotation around centre of the arena. Polarisation measures how aligned individuals in a group are whereas rotation is a measure of the group being in a milling state aka. rotating. Checkout Tunstrom et al. 2013 PLoS Computational Biology for a more detailed description.\n",
    "\n",
    "#### Group showing high polarisation &nbsp; &nbsp; &nbsp; &nbsp; &nbsp; &nbsp; &nbsp; &nbsp; &nbsp; &nbsp; &nbsp; &nbsp; &nbsp; &nbsp; &nbsp; &nbsp; &nbsp; &nbsp; &nbsp; &nbsp; &nbsp; &nbsp; &nbsp; &nbsp; &nbsp; &nbsp; &nbsp; &nbsp; &nbsp; &nbsp; &nbsp; &nbsp; &nbsp; &nbsp; &nbsp; Group transitioning from high rotation to high polarisation\n",
    "\n",
    "<img src=\"imgs/pol.png\", width=\"48%\", height=\"48%\", style=\"float: left\">\n",
    "\n",
    "<img src=\"imgs/rot2pol.png\", width=\"48%\", height=\"48%\", style=\"float: right\">"
   ]
  },
  {
   "cell_type": "code",
   "execution_count": 13,
   "metadata": {},
   "outputs": [
    {
     "data": {
      "text/html": [
       "<div>\n",
       "<style scoped>\n",
       "    .dataframe tbody tr th:only-of-type {\n",
       "        vertical-align: middle;\n",
       "    }\n",
       "\n",
       "    .dataframe tbody tr th {\n",
       "        vertical-align: top;\n",
       "    }\n",
       "\n",
       "    .dataframe thead th {\n",
       "        text-align: right;\n",
       "    }\n",
       "</style>\n",
       "<table border=\"1\" class=\"dataframe\">\n",
       "  <thead>\n",
       "    <tr style=\"text-align: right;\">\n",
       "      <th></th>\n",
       "      <th>Unnamed: 0</th>\n",
       "      <th>frame</th>\n",
       "      <th>pos_x</th>\n",
       "      <th>pos_y</th>\n",
       "      <th>id</th>\n",
       "    </tr>\n",
       "  </thead>\n",
       "  <tbody>\n",
       "    <tr>\n",
       "      <th>0</th>\n",
       "      <td>0</td>\n",
       "      <td>3.0</td>\n",
       "      <td>0.0</td>\n",
       "      <td>0.0</td>\n",
       "      <td>A</td>\n",
       "    </tr>\n",
       "    <tr>\n",
       "      <th>1</th>\n",
       "      <td>1</td>\n",
       "      <td>3.0</td>\n",
       "      <td>969.0</td>\n",
       "      <td>635.0</td>\n",
       "      <td>B</td>\n",
       "    </tr>\n",
       "    <tr>\n",
       "      <th>2</th>\n",
       "      <td>2</td>\n",
       "      <td>3.0</td>\n",
       "      <td>825.0</td>\n",
       "      <td>906.0</td>\n",
       "      <td>C</td>\n",
       "    </tr>\n",
       "    <tr>\n",
       "      <th>3</th>\n",
       "      <td>3</td>\n",
       "      <td>3.0</td>\n",
       "      <td>974.0</td>\n",
       "      <td>569.0</td>\n",
       "      <td>D</td>\n",
       "    </tr>\n",
       "    <tr>\n",
       "      <th>4</th>\n",
       "      <td>4</td>\n",
       "      <td>3.0</td>\n",
       "      <td>846.0</td>\n",
       "      <td>233.0</td>\n",
       "      <td>E</td>\n",
       "    </tr>\n",
       "  </tbody>\n",
       "</table>\n",
       "</div>"
      ],
      "text/plain": [
       "   Unnamed: 0  frame  pos_x  pos_y id\n",
       "0           0    3.0    0.0    0.0  A\n",
       "1           1    3.0  969.0  635.0  B\n",
       "2           2    3.0  825.0  906.0  C\n",
       "3           3    3.0  974.0  569.0  D\n",
       "4           4    3.0  846.0  233.0  E"
      ]
     },
     "execution_count": 13,
     "metadata": {},
     "output_type": "execute_result"
    }
   ],
   "source": [
    "df = pd.read_csv(output_filepath)\n",
    "df.head()"
   ]
  },
  {
   "cell_type": "code",
   "execution_count": 14,
   "metadata": {},
   "outputs": [
    {
     "data": {
      "text/html": [
       "<div>\n",
       "<style scoped>\n",
       "    .dataframe tbody tr th:only-of-type {\n",
       "        vertical-align: middle;\n",
       "    }\n",
       "\n",
       "    .dataframe tbody tr th {\n",
       "        vertical-align: top;\n",
       "    }\n",
       "\n",
       "    .dataframe thead th {\n",
       "        text-align: right;\n",
       "    }\n",
       "</style>\n",
       "<table border=\"1\" class=\"dataframe\">\n",
       "  <thead>\n",
       "    <tr style=\"text-align: right;\">\n",
       "      <th></th>\n",
       "      <th>frame</th>\n",
       "      <th>pos_x</th>\n",
       "      <th>pos_y</th>\n",
       "      <th>id</th>\n",
       "      <th>dir_x</th>\n",
       "      <th>dir_y</th>\n",
       "      <th>speed</th>\n",
       "    </tr>\n",
       "  </thead>\n",
       "  <tbody>\n",
       "    <tr>\n",
       "      <th>21</th>\n",
       "      <td>4.0</td>\n",
       "      <td>969.0</td>\n",
       "      <td>634.0</td>\n",
       "      <td>B</td>\n",
       "      <td>0.000000</td>\n",
       "      <td>-1.000000</td>\n",
       "      <td>1.000000</td>\n",
       "    </tr>\n",
       "    <tr>\n",
       "      <th>22</th>\n",
       "      <td>4.0</td>\n",
       "      <td>825.0</td>\n",
       "      <td>907.0</td>\n",
       "      <td>C</td>\n",
       "      <td>0.000000</td>\n",
       "      <td>1.000000</td>\n",
       "      <td>1.000000</td>\n",
       "    </tr>\n",
       "    <tr>\n",
       "      <th>24</th>\n",
       "      <td>4.0</td>\n",
       "      <td>858.0</td>\n",
       "      <td>244.0</td>\n",
       "      <td>E</td>\n",
       "      <td>0.737154</td>\n",
       "      <td>0.675725</td>\n",
       "      <td>16.278821</td>\n",
       "    </tr>\n",
       "    <tr>\n",
       "      <th>25</th>\n",
       "      <td>4.0</td>\n",
       "      <td>848.0</td>\n",
       "      <td>875.0</td>\n",
       "      <td>F</td>\n",
       "      <td>0.371391</td>\n",
       "      <td>-0.928477</td>\n",
       "      <td>5.385165</td>\n",
       "    </tr>\n",
       "    <tr>\n",
       "      <th>27</th>\n",
       "      <td>4.0</td>\n",
       "      <td>992.0</td>\n",
       "      <td>677.0</td>\n",
       "      <td>H</td>\n",
       "      <td>-0.447214</td>\n",
       "      <td>0.894427</td>\n",
       "      <td>15.652476</td>\n",
       "    </tr>\n",
       "  </tbody>\n",
       "</table>\n",
       "</div>"
      ],
      "text/plain": [
       "    frame  pos_x  pos_y id     dir_x     dir_y      speed\n",
       "21    4.0  969.0  634.0  B  0.000000 -1.000000   1.000000\n",
       "22    4.0  825.0  907.0  C  0.000000  1.000000   1.000000\n",
       "24    4.0  858.0  244.0  E  0.737154  0.675725  16.278821\n",
       "25    4.0  848.0  875.0  F  0.371391 -0.928477   5.385165\n",
       "27    4.0  992.0  677.0  H -0.447214  0.894427  15.652476"
      ]
     },
     "execution_count": 14,
     "metadata": {},
     "output_type": "execute_result"
    }
   ],
   "source": [
    "df = df.drop(columns=['Unnamed: 0'])\n",
    "df['dir_x'] = df['pos_x'] - df['pos_x'].shift(n_inds)\n",
    "df['dir_y'] = df['pos_y'] - df['pos_y'].shift(n_inds)\n",
    "df['speed'] = np.sqrt(df['dir_x']**2 + df['dir_y']**2)\n",
    "df['dir_x'] /= df['speed']\n",
    "df['dir_y'] /= df['speed']\n",
    "\n",
    "# drop any inf in data\n",
    "df = df.replace([np.inf, -np.inf], np.nan).dropna(axis=0, how=\"any\")\n",
    "\n",
    "df.head()"
   ]
  },
  {
   "cell_type": "code",
   "execution_count": 15,
   "metadata": {},
   "outputs": [
    {
     "name": "stderr",
     "output_type": "stream",
     "text": [
      "C:\\ProgramData\\Anaconda3\\lib\\site-packages\\ipykernel_launcher.py:2: SettingWithCopyWarning: \n",
      "A value is trying to be set on a copy of a slice from a DataFrame\n",
      "\n",
      "See the caveats in the documentation: http://pandas.pydata.org/pandas-docs/stable/indexing.html#indexing-view-versus-copy\n",
      "  \n"
     ]
    }
   ],
   "source": [
    "for idx, ID in enumerate(np.unique(df['id'])):\n",
    "    df['id'][df['id'] == ID] = idx"
   ]
  },
  {
   "cell_type": "code",
   "execution_count": 17,
   "metadata": {},
   "outputs": [
    {
     "data": {
      "image/png": "[encoded data removed]",
      "text/plain": [
       "<matplotlib.figure.Figure at 0x28e80992c88>"
      ]
     },
     "metadata": {},
     "output_type": "display_data"
    }
   ],
   "source": [
    "import matplotlib.pyplot as plt\n",
    "\n",
    "plt.figure(figsize=(8,8))\n",
    "#plt.scatter(df['pos_x'], df['pos_y'], c=df['id'], cmap='jet', alpha=0.5)\n",
    "plt.scatter(df['pos_x'], df['pos_y'], c=df['id'], alpha=0.5)\n",
    "plt.xlabel('X', fontsize=16)\n",
    "plt.ylabel('Y', fontsize=16)\n",
    "plt.tight_layout()\n",
    "plt.savefig('imgs/ex4_fig1.eps', format='eps', dpi=300)\n",
    "plt.show()"
   ]
  },
  {
   "cell_type": "code",
   "execution_count": null,
   "metadata": {},
   "outputs": [],
   "source": [
    "df_ord = df.groupby(['frame']).mean()\n",
    "df_ord = df_ord.reset_index()\n",
    "\n",
    "df_ord = df_ord.rename(index=str, columns={'pos_x':'centroid_x', 'pos_y':'centroid_y', 'dir_x':'gdir_x', 'dir_y':'gdir_y', 'speed':'gspeed'})"
   ]
  },
  {
   "cell_type": "code",
   "execution_count": null,
   "metadata": {},
   "outputs": [],
   "source": [
    "df = pd.merge(df, df_ord, how='left')"
   ]
  },
  {
   "cell_type": "code",
   "execution_count": null,
   "metadata": {},
   "outputs": [],
   "source": [
    "tmpx = (df['pos_x'] - df['centroid_x'])\n",
    "tmpy = (df['pos_y'] - df['centroid_y'])\n",
    "df['centroid_disp_x'] = tmpx / np.linalg.norm((tmpx, tmpy), axis=0)\n",
    "df['centroid_disp_y'] = tmpy / np.linalg.norm((tmpx, tmpy), axis=0)\n",
    "\n",
    "tmpx = (df['pos_x'] - mask.shape[1]//2 + mask_offset_x)\n",
    "tmpy = (df['pos_x'] - mask.shape[0]//2 + mask_offset_y)\n",
    "df['arena_centre_disp_x'] = tmpx / np.linalg.norm((tmpx, tmpy), axis=0)\n",
    "df['arena_centre_disp_y'] = tmpy / np.linalg.norm((tmpx, tmpy), axis=0)"
   ]
  },
  {
   "cell_type": "code",
   "execution_count": null,
   "metadata": {},
   "outputs": [],
   "source": [
    "centroid_disp = [df['centroid_disp_x'], df['centroid_disp_y']]\n",
    "direction = [df['dir_x'], df['dir_y']]\n",
    "\n",
    "arena_disp = [df['arena_centre_disp_x'], df['arena_centre_disp_y']]"
   ]
  },
  {
   "cell_type": "code",
   "execution_count": null,
   "metadata": {},
   "outputs": [],
   "source": [
    "df['rotation'] = np.cross(np.array(centroid_disp).T, np.array(direction).T)\n",
    "df['arena_rotation'] = np.cross(np.array(arena_disp).T, np.array(direction).T)"
   ]
  },
  {
   "cell_type": "code",
   "execution_count": null,
   "metadata": {},
   "outputs": [],
   "source": [
    "df_ord = df.groupby(['frame']).agg(['sum', 'count'])\n",
    "df_ord = df_ord.reset_index()"
   ]
  },
  {
   "cell_type": "code",
   "execution_count": null,
   "metadata": {},
   "outputs": [],
   "source": [
    "df_ord['polarisation'] = np.sqrt(df_ord['dir_x']['sum']**2 + df_ord['dir_y']['sum']**2) / df_ord['dir_x']['count']\n",
    "df_ord['rotation'] = df_ord['rotation']['sum'].divide(df_ord['rotation']['count'])\n",
    "df_ord['arena_rotation'] = df_ord['arena_rotation']['sum'].divide(df_ord['arena_rotation']['count'])"
   ]
  },
  {
   "cell_type": "code",
   "execution_count": null,
   "metadata": {},
   "outputs": [],
   "source": [
    "plt.figure(figsize=(30,3))\n",
    "plt.plot(df_ord['frame']/30, df_ord['rotation']['sum'], color='r', label='Rotatioin (about group centroid)')\n",
    "plt.plot(df_ord['frame']/30, df_ord['arena_rotation']['sum'], color='g', label='Rotation (about arena centre)') \n",
    "plt.plot(df_ord['frame']/30, df_ord['polarisation'], color='b', label='Polarisation')\n",
    "plt.xlabel('Time (s)', fontsize=16)\n",
    "plt.legend(loc=1)\n",
    "plt.tight_layout()\n",
    "plt.savefig('imgs/ex4_fig2.eps', format='eps', dpi=300)\n",
    "plt.show()"
   ]
  },
  {
   "cell_type": "code",
   "execution_count": null,
   "metadata": {},
   "outputs": [],
   "source": [
    "import seaborn as sns\n",
    "\n",
    "plot = sns.jointplot(df_ord['polarisation'], df_ord['rotation']['sum'], xlim=[0,1], ylim=[-1,1], kind=\"hex\", space=0, size = 7.5, stat_func=None, ratio=3)\n",
    "plot.set_axis_labels('Polarisation', 'Rotation (about group centroid)', fontsize=16)\n",
    "plt.tight_layout()\n",
    "plt.savefig('imgs/ex4_fig3a.eps', format='eps', dpi=300)\n",
    "plt.show()"
   ]
  },
  {
   "cell_type": "code",
   "execution_count": null,
   "metadata": {},
   "outputs": [],
   "source": [
    "plot = sns.jointplot(df_ord['polarisation'], df_ord['arena_rotation']['sum'], xlim=[0,1], ylim=[-1,1], kind=\"hex\", space=0, size = 7.5, stat_func=None, ratio=3)\n",
    "plot.set_axis_labels('Polarisation', 'Rotation (about arena centre)', fontsize=16)\n",
    "plt.tight_layout()\n",
    "plt.savefig('imgs/ex4_fig3b.eps', format='eps', dpi=300)\n",
    "plt.show()"
   ]
  },
  {
   "cell_type": "code",
   "execution_count": null,
   "metadata": {},
   "outputs": [],
   "source": [
    "print(np.median(df_ord['polarisation']), np.median(np.abs(df_ord['rotation']['sum'])), np.median(np.abs(df_ord['arena_rotation']['sum'])))"
   ]
  },
  {
   "cell_type": "code",
   "execution_count": null,
   "metadata": {},
   "outputs": [],
   "source": []
  }
 ],
 "metadata": {
  "kernelspec": {
   "display_name": "Python 3",
   "language": "python",
   "name": "python3"
  },
  "language_info": {
   "codemirror_mode": {
    "name": "ipython",
    "version": 3
   },
   "file_extension": ".py",
   "mimetype": "text/x-python",
   "name": "python",
   "nbconvert_exporter": "python",
   "pygments_lexer": "ipython3",
   "version": "3.7.0"
  }
 },
 "nbformat": 4,
 "nbformat_minor": 1
}
